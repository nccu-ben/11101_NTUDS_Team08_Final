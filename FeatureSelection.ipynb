{
 "cells": [
  {
   "cell_type": "code",
   "execution_count": null,
   "id": "206ef869",
   "metadata": {},
   "outputs": [],
   "source": [
    "import numpy as np\n",
    "import pandas as pd # data processing, CSV file I/O (e.g. pd.read_csv)\n",
    "\n",
    "import csv\n",
    "import datetime\n",
    "import random\n",
    "from operator import sub\n",
    "\n",
    "import xgboost as xgb\n",
    "#from sklearn import preprocessing, ensemble\n",
    "import os\n",
    "#print(os.listdir(\"../input\"))"
   ]
  },
  {
   "cell_type": "code",
   "execution_count": null,
   "id": "fb2e6cd4",
   "metadata": {},
   "outputs": [],
   "source": [
    "path = \"./santander-product-recommendation/\"\n",
    "df= pd.read_csv( path + \"train_ver2.csv\", dtype={\"sexo\":str, \"ind_nuevo\":str, \n",
    "                                                  \"ult_fec_cli_1t\":str, \n",
    "                                                  \"indext\":str})\n",
    "df.columns\n",
    "df.shape"
   ]
  },
  {
   "cell_type": "code",
   "execution_count": null,
   "id": "49f2f136",
   "metadata": {},
   "outputs": [],
   "source": [
    "limit_rows   = 7000000\n",
    "df           = pd.read_csv(path + \"train_ver2.csv\",dtype={\"sexo\":str,\n",
    "                                                    \"ind_nuevo\":str,\n",
    "                                                    \"ult_fec_cli_1t\":str,\n",
    "                                                    \"indext\":str}, nrows=limit_rows)\n",
    "unique_ids   = pd.Series(df[\"ncodpers\"].unique())\n",
    "limit_people = 12000\n",
    "unique_id    = unique_ids.sample(n=limit_people)\n",
    "df           = df[df.ncodpers.isin(unique_id)]\n",
    "df.describe()"
   ]
  },
  {
   "cell_type": "code",
   "execution_count": null,
   "id": "a162956c",
   "metadata": {},
   "outputs": [],
   "source": [
    "df[\"fecha_dato\"] = pd.to_datetime(df[\"fecha_dato\"],format=\"%Y-%m-%d\")\n",
    "df[\"fecha_alta\"] = pd.to_datetime(df[\"fecha_alta\"],format=\"%Y-%m-%d\")\n",
    "df[\"fecha_dato\"].unique()\n",
    "df[\"month\"] = pd.DatetimeIndex(df[\"fecha_dato\"]).month\n",
    "df[\"age\"]   = pd.to_numeric(df[\"age\"], errors=\"coerce\")"
   ]
  },
  {
   "cell_type": "code",
   "execution_count": null,
   "id": "e8d77a26",
   "metadata": {},
   "outputs": [],
   "source": [
    "df.isnull().any()"
   ]
  },
  {
   "cell_type": "code",
   "execution_count": null,
   "id": "2f61585a",
   "metadata": {},
   "outputs": [],
   "source": [
    "import seaborn as sns\n",
    "with sns.plotting_context(\"notebook\",font_scale=1.5):\n",
    "    sns.set_style(\"whitegrid\")\n",
    "    sns.displot(df[\"age\"].dropna(),\n",
    "#                 bins=80,\n",
    "#                 kde=False,\n",
    "                 color=\"tomato\")\n",
    "    plt.title(\"Age Distribution\")\n",
    "    plt.ylabel(\"Count\")"
   ]
  },
  {
   "cell_type": "code",
   "execution_count": null,
   "id": "bb0c4d7c",
   "metadata": {},
   "outputs": [],
   "source": [
    "df.loc[df.age < 18,\"age\"]  = df.loc[(df.age >= 18) & (df.age <= 30),\"age\"].mean(skipna=True)\n",
    "df.loc[df.age > 100,\"age\"] = df.loc[(df.age >= 30) & (df.age <= 100),\"age\"].mean(skipna=True)\n",
    "df[\"age\"].fillna(df[\"age\"].mean(),inplace=True)\n",
    "# df[\"age\"]                  = df[\"age\"].astype(int)"
   ]
  },
  {
   "cell_type": "code",
   "execution_count": null,
   "id": "baf0a89d",
   "metadata": {},
   "outputs": [],
   "source": [
    "df[\"ind_nuevo\"].isnull().sum()"
   ]
  },
  {
   "cell_type": "code",
   "execution_count": null,
   "id": "90594a3a",
   "metadata": {},
   "outputs": [],
   "source": [
    "months_active = df.loc[df[\"ind_nuevo\"].isnull(),:].groupby(\"ncodpers\", sort=False).size()\n",
    "\n",
    "months_active.max()\n",
    "df.loc[df[\"ind_nuevo\"].isnull(),\"ind_nuevo\"] = 1"
   ]
  },
  {
   "cell_type": "code",
   "execution_count": null,
   "id": "a8d0c639",
   "metadata": {},
   "outputs": [],
   "source": [
    "df.antiguedad = pd.to_numeric(df.antiguedad,errors=\"coerce\")\n",
    "np.sum(df[\"antiguedad\"].isnull())\n",
    "df.loc[df[\"antiguedad\"].isnull(),\"ind_nuevo\"].describe()\n",
    "df.loc[df.antiguedad.isnull(),\"antiguedad\"] = df.antiguedad.min()\n",
    "df.loc[df.antiguedad <0, \"antiguedad\"]      = 0"
   ]
  },
  {
   "cell_type": "code",
   "execution_count": null,
   "id": "3549dd30",
   "metadata": {},
   "outputs": [],
   "source": [
    "dates=df.loc[:,\"fecha_alta\"].sort_values().reset_index()\n",
    "median_date = int(np.median(dates.index.values))\n",
    "df.loc[df.fecha_alta.isnull(),\"fecha_alta\"] = dates.loc[median_date,\"fecha_alta\"]\n",
    "df[\"fecha_alta\"].describe()"
   ]
  },
  {
   "cell_type": "code",
   "execution_count": null,
   "id": "73c6d94a",
   "metadata": {},
   "outputs": [],
   "source": [
    "pd.Series([i for i in df.indrel]).value_counts()"
   ]
  },
  {
   "cell_type": "code",
   "execution_count": null,
   "id": "b1f9a9bd",
   "metadata": {},
   "outputs": [],
   "source": [
    "np.sum(df[\"ind_actividad_cliente\"].isnull())"
   ]
  },
  {
   "cell_type": "code",
   "execution_count": null,
   "id": "57076ba9",
   "metadata": {},
   "outputs": [],
   "source": [
    "df.drop([\"tipodom\",\"cod_prov\"],axis=1,inplace=True)"
   ]
  },
  {
   "cell_type": "code",
   "execution_count": null,
   "id": "ede482b1",
   "metadata": {},
   "outputs": [],
   "source": [
    "df.isnull().any()"
   ]
  },
  {
   "cell_type": "code",
   "execution_count": null,
   "id": "66337638",
   "metadata": {},
   "outputs": [],
   "source": [
    "df.loc[df.ind_actividad_cliente.isnull(),\"ind_actividad_cliente\"] = \\\n",
    "df[\"ind_actividad_cliente\"].median()"
   ]
  },
  {
   "cell_type": "code",
   "execution_count": null,
   "id": "81f962d1",
   "metadata": {},
   "outputs": [],
   "source": [
    "df.nomprov.unique()\n",
    "df.loc[df.nomprov==\"CORU\\xc3\\x91A, A\",\"nomprov\"] = \"CORUNA, A\"\n",
    "df.loc[df.nomprov.isnull(),\"nomprov\"] = \"UNKNOWN\""
   ]
  },
  {
   "cell_type": "code",
   "execution_count": null,
   "id": "18872b32",
   "metadata": {},
   "outputs": [],
   "source": []
  },
  {
   "cell_type": "code",
   "execution_count": null,
   "id": "559a92a1",
   "metadata": {},
   "outputs": [],
   "source": []
  },
  {
   "cell_type": "code",
   "execution_count": null,
   "id": "87819912",
   "metadata": {},
   "outputs": [],
   "source": []
  },
  {
   "cell_type": "code",
   "execution_count": null,
   "id": "352fc80a",
   "metadata": {},
   "outputs": [],
   "source": []
  },
  {
   "cell_type": "code",
   "execution_count": null,
   "id": "1686a54b",
   "metadata": {},
   "outputs": [],
   "source": []
  },
  {
   "cell_type": "code",
   "execution_count": null,
   "id": "76cce51e",
   "metadata": {},
   "outputs": [],
   "source": []
  },
  {
   "cell_type": "code",
   "execution_count": null,
   "id": "5632d406",
   "metadata": {},
   "outputs": [],
   "source": []
  },
  {
   "cell_type": "code",
   "execution_count": null,
   "id": "7eddf76a",
   "metadata": {},
   "outputs": [],
   "source": []
  },
  {
   "cell_type": "code",
   "execution_count": null,
   "id": "155d770d",
   "metadata": {},
   "outputs": [],
   "source": []
  },
  {
   "cell_type": "code",
   "execution_count": null,
   "id": "0408a018",
   "metadata": {},
   "outputs": [],
   "source": [
    "trainData = pd.read_csv('./santander-product-recommendation/train_ver2.csv')\n",
    "testData = pd.read_csv('./santander-product-recommendation/test_ver2.csv')"
   ]
  },
  {
   "cell_type": "code",
   "execution_count": null,
   "id": "d2310a1e",
   "metadata": {},
   "outputs": [],
   "source": [
    "print(\"testData shape : \", testData.shape)\n",
    "print(\"trainData type : \", type(trainData))\n",
    "print(\"trainData shape : \", trainData.shape)\n",
    "print(\"testData type : \", type(testData))"
   ]
  },
  {
   "cell_type": "code",
   "execution_count": null,
   "id": "57386f85",
   "metadata": {},
   "outputs": [],
   "source": [
    "trainData"
   ]
  },
  {
   "cell_type": "code",
   "execution_count": null,
   "id": "5cd98b16",
   "metadata": {},
   "outputs": [],
   "source": [
    "testData"
   ]
  },
  {
   "cell_type": "code",
   "execution_count": null,
   "id": "861cd3cd",
   "metadata": {},
   "outputs": [],
   "source": []
  }
 ],
 "metadata": {
  "kernelspec": {
   "display_name": "Python 3 (ipykernel)",
   "language": "python",
   "name": "python3"
  },
  "language_info": {
   "codemirror_mode": {
    "name": "ipython",
    "version": 3
   },
   "file_extension": ".py",
   "mimetype": "text/x-python",
   "name": "python",
   "nbconvert_exporter": "python",
   "pygments_lexer": "ipython3",
   "version": "3.9.10"
  }
 },
 "nbformat": 4,
 "nbformat_minor": 5
}
