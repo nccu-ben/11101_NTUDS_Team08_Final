{
 "cells": [
  {
   "cell_type": "code",
   "execution_count": 1,
   "id": "8af2bea4",
   "metadata": {},
   "outputs": [],
   "source": [
    "import numpy as np\n",
    "import pandas as pd\n",
    "import matplotlib.pyplot as plt\n"
   ]
  },
  {
   "cell_type": "code",
   "execution_count": 2,
   "id": "c596b003",
   "metadata": {},
   "outputs": [
    {
     "data": {
      "text/html": [
       "<div>\n",
       "<style scoped>\n",
       "    .dataframe tbody tr th:only-of-type {\n",
       "        vertical-align: middle;\n",
       "    }\n",
       "\n",
       "    .dataframe tbody tr th {\n",
       "        vertical-align: top;\n",
       "    }\n",
       "\n",
       "    .dataframe thead th {\n",
       "        text-align: right;\n",
       "    }\n",
       "</style>\n",
       "<table border=\"1\" class=\"dataframe\">\n",
       "  <thead>\n",
       "    <tr style=\"text-align: right;\">\n",
       "      <th></th>\n",
       "      <th>ncodpers</th>\n",
       "      <th>added_products</th>\n",
       "    </tr>\n",
       "  </thead>\n",
       "  <tbody>\n",
       "    <tr>\n",
       "      <th>0</th>\n",
       "      <td>15889</td>\n",
       "      <td>ind_recibo_ult1 ind_reca_fin_ult1 ind_ecue_fin...</td>\n",
       "    </tr>\n",
       "    <tr>\n",
       "      <th>1</th>\n",
       "      <td>15890</td>\n",
       "      <td>ind_reca_fin_ult1 ind_cco_fin_ult1 ind_valo_fi...</td>\n",
       "    </tr>\n",
       "    <tr>\n",
       "      <th>2</th>\n",
       "      <td>15892</td>\n",
       "      <td>ind_nom_pens_ult1 ind_cno_fin_ult1 ind_nomina_...</td>\n",
       "    </tr>\n",
       "    <tr>\n",
       "      <th>3</th>\n",
       "      <td>15893</td>\n",
       "      <td>ind_cco_fin_ult1 ind_reca_fin_ult1 ind_ecue_fi...</td>\n",
       "    </tr>\n",
       "    <tr>\n",
       "      <th>4</th>\n",
       "      <td>15894</td>\n",
       "      <td>ind_cno_fin_ult1 ind_hip_fin_ult1 ind_ctop_fin...</td>\n",
       "    </tr>\n",
       "    <tr>\n",
       "      <th>...</th>\n",
       "      <td>...</td>\n",
       "      <td>...</td>\n",
       "    </tr>\n",
       "    <tr>\n",
       "      <th>929610</th>\n",
       "      <td>1553685</td>\n",
       "      <td>ind_cco_fin_ult1 ind_recibo_ult1 ind_ctma_fin_...</td>\n",
       "    </tr>\n",
       "    <tr>\n",
       "      <th>929611</th>\n",
       "      <td>1553686</td>\n",
       "      <td>ind_cco_fin_ult1 ind_recibo_ult1 ind_cno_fin_u...</td>\n",
       "    </tr>\n",
       "    <tr>\n",
       "      <th>929612</th>\n",
       "      <td>1553687</td>\n",
       "      <td>ind_cco_fin_ult1 ind_ctma_fin_ult1 ind_recibo_...</td>\n",
       "    </tr>\n",
       "    <tr>\n",
       "      <th>929613</th>\n",
       "      <td>1553688</td>\n",
       "      <td>ind_cco_fin_ult1 ind_recibo_ult1 ind_ctma_fin_...</td>\n",
       "    </tr>\n",
       "    <tr>\n",
       "      <th>929614</th>\n",
       "      <td>1553689</td>\n",
       "      <td>ind_cco_fin_ult1 ind_ctma_fin_ult1 ind_recibo_...</td>\n",
       "    </tr>\n",
       "  </tbody>\n",
       "</table>\n",
       "<p>929615 rows × 2 columns</p>\n",
       "</div>"
      ],
      "text/plain": [
       "        ncodpers                                     added_products\n",
       "0          15889  ind_recibo_ult1 ind_reca_fin_ult1 ind_ecue_fin...\n",
       "1          15890  ind_reca_fin_ult1 ind_cco_fin_ult1 ind_valo_fi...\n",
       "2          15892  ind_nom_pens_ult1 ind_cno_fin_ult1 ind_nomina_...\n",
       "3          15893  ind_cco_fin_ult1 ind_reca_fin_ult1 ind_ecue_fi...\n",
       "4          15894  ind_cno_fin_ult1 ind_hip_fin_ult1 ind_ctop_fin...\n",
       "...          ...                                                ...\n",
       "929610   1553685  ind_cco_fin_ult1 ind_recibo_ult1 ind_ctma_fin_...\n",
       "929611   1553686  ind_cco_fin_ult1 ind_recibo_ult1 ind_cno_fin_u...\n",
       "929612   1553687  ind_cco_fin_ult1 ind_ctma_fin_ult1 ind_recibo_...\n",
       "929613   1553688  ind_cco_fin_ult1 ind_recibo_ult1 ind_ctma_fin_...\n",
       "929614   1553689  ind_cco_fin_ult1 ind_ctma_fin_ult1 ind_recibo_...\n",
       "\n",
       "[929615 rows x 2 columns]"
      ]
     },
     "execution_count": 2,
     "metadata": {},
     "output_type": "execute_result"
    }
   ],
   "source": [
    "submission = pd.read_csv(\"submission.csv\", sep = \",\")\n",
    "submission"
   ]
  },
  {
   "cell_type": "code",
   "execution_count": 3,
   "id": "9410447a",
   "metadata": {},
   "outputs": [
    {
     "name": "stdout",
     "output_type": "stream",
     "text": [
      "{'ind_ahor_fin_ult1': 0, 'ind_aval_fin_ult1': 0, 'ind_cco_fin_ult1': 0, 'ind_cder_fin_ult1': 0, 'ind_cno_fin_ult1': 0, 'ind_ctju_fin_ult1': 0, 'ind_ctma_fin_ult1': 0, 'ind_ctop_fin_ult1': 0, 'ind_ctpp_fin_ult1': 0, 'ind_deco_fin_ult1': 0, 'ind_deme_fin_ult1': 0, 'ind_dela_fin_ult1': 0, 'ind_ecue_fin_ult1': 0, 'ind_fond_fin_ult1': 0, 'ind_hip_fin_ult1': 0, 'ind_plan_fin_ult1': 0, 'ind_pres_fin_ult1': 0, 'ind_reca_fin_ult1': 0, 'ind_tjcr_fin_ult1': 0, 'ind_valo_fin_ult1': 0, 'ind_viv_fin_ult1': 0, 'ind_nomina_ult1': 0, 'ind_nom_pens_ult1': 0, 'ind_recibo_ult1': 0}\n",
      "<class 'dict'>\n"
     ]
    }
   ],
   "source": [
    "header = {\"ind_ahor_fin_ult1\": 0 , \"ind_aval_fin_ult1\": 0 , \"ind_cco_fin_ult1\": 0 , \"ind_cder_fin_ult1\": 0 , \"ind_cno_fin_ult1\": 0 , \"ind_ctju_fin_ult1\": 0 , \"ind_ctma_fin_ult1\": 0 , \"ind_ctop_fin_ult1\": 0 , \"ind_ctpp_fin_ult1\": 0 , \"ind_deco_fin_ult1\": 0 , \"ind_deme_fin_ult1\": 0 , \"ind_dela_fin_ult1\": 0 , \"ind_ecue_fin_ult1\": 0 , \"ind_fond_fin_ult1\": 0 , \"ind_hip_fin_ult1\": 0 , \"ind_plan_fin_ult1\": 0 , \"ind_pres_fin_ult1\": 0 , \"ind_reca_fin_ult1\": 0 , \"ind_tjcr_fin_ult1\": 0 , \"ind_valo_fin_ult1\": 0 , \"ind_viv_fin_ult1\": 0 , \"ind_nomina_ult1\": 0 , \"ind_nom_pens_ult1\": 0 , \"ind_recibo_ult1\": 0}\n",
    "print(header)\n",
    "print(type(header))"
   ]
  },
  {
   "cell_type": "code",
   "execution_count": 4,
   "id": "8e9c3061",
   "metadata": {},
   "outputs": [],
   "source": [
    "for i in range(submission.shape[0]):\n",
    "    tmp = submission.iloc[i][\"added_products\"].split()\n",
    "    for j in range(5):\n",
    "        tmp2 = header[tmp[j]]\n",
    "        tmp2 += 1/5\n",
    "        header[tmp[j]] = tmp2\n",
    "    "
   ]
  },
  {
   "cell_type": "code",
   "execution_count": 5,
   "id": "d488d418",
   "metadata": {},
   "outputs": [
    {
     "name": "stdout",
     "output_type": "stream",
     "text": [
      "{'ind_ahor_fin_ult1': 0, 'ind_aval_fin_ult1': 0, 'ind_cco_fin_ult1': 73158.79999949639, 'ind_cder_fin_ult1': 0, 'ind_cno_fin_ult1': 135199.39999889387, 'ind_ctju_fin_ult1': 253.59999999999414, 'ind_ctma_fin_ult1': 3955.3999999985936, 'ind_ctop_fin_ult1': 26755.800000062274, 'ind_ctpp_fin_ult1': 6384.999999996384, 'ind_deco_fin_ult1': 0, 'ind_deme_fin_ult1': 0, 'ind_dela_fin_ult1': 5063.599999997586, 'ind_ecue_fin_ult1': 92995.99999920772, 'ind_fond_fin_ult1': 4703.199999997913, 'ind_hip_fin_ult1': 1663.6000000002412, 'ind_plan_fin_ult1': 547.9999999999876, 'ind_pres_fin_ult1': 0, 'ind_reca_fin_ult1': 145773.79999950939, 'ind_tjcr_fin_ult1': 63875.59999963147, 'ind_valo_fin_ult1': 11161.00000000554, 'ind_viv_fin_ult1': 0, 'ind_nomina_ult1': 88597.59999927173, 'ind_nom_pens_ult1': 108378.79999898387, 'ind_recibo_ult1': 161145.80000040415}\n"
     ]
    }
   ],
   "source": [
    "print(header)"
   ]
  },
  {
   "cell_type": "code",
   "execution_count": 38,
   "id": "8295a886",
   "metadata": {},
   "outputs": [
    {
     "data": {
      "image/png": "[encoded data removed]",
      "text/plain": [
       "<Figure size 1152x864 with 1 Axes>"
      ]
     },
     "metadata": {
      "needs_background": "light"
     },
     "output_type": "display_data"
    }
   ],
   "source": [
    "plt.figure(figsize = (16, 12))\n",
    "\n",
    "sort_header = {}\n",
    "for w in sorted(header, key = header.get, reverse = True):\n",
    "    sort_header[w] = header[w]\n",
    "\n",
    "plt.bar(sort_header.keys(), sort_header.values(), color = \"cornflowerblue\")\n",
    "plt.xticks(rotation = 45, ha = 'right')\n",
    "\n",
    "plt.title(\"Recommand Compare\")\n",
    "plt.xlabel(\"Products\")\n",
    "plt.ylabel(\"Times\")\n",
    "\n",
    "plt.show()"
   ]
  },
  {
   "cell_type": "code",
   "execution_count": 73,
   "id": "59b5223c",
   "metadata": {},
   "outputs": [
    {
     "name": "stdout",
     "output_type": "stream",
     "text": [
      "dict_keys(['ind_recibo_ult1', 'ind_reca_fin_ult1', 'ind_cno_fin_ult1', 'ind_nom_pens_ult1', 'ind_ecue_fin_ult1', 'ind_nomina_ult1', 'ind_cco_fin_ult1', 'ind_tjcr_fin_ult1', 'ind_ctop_fin_ult1', 'ind_valo_fin_ult1', 'ind_ctpp_fin_ult1', 'ind_dela_fin_ult1', 'ind_fond_fin_ult1', 'ind_ctma_fin_ult1', 'ind_hip_fin_ult1', 'ind_plan_fin_ult1', 'ind_ctju_fin_ult1', 'ind_ahor_fin_ult1', 'ind_aval_fin_ult1', 'ind_cder_fin_ult1', 'ind_deco_fin_ult1', 'ind_deme_fin_ult1', 'ind_pres_fin_ult1', 'ind_viv_fin_ult1'])\n",
      "929615\n"
     ]
    }
   ],
   "source": [
    "print(sort_header.keys())\n",
    "print(submission.shape[0])"
   ]
  },
  {
   "cell_type": "code",
   "execution_count": 8,
   "id": "57405492",
   "metadata": {},
   "outputs": [
    {
     "name": "stdout",
     "output_type": "stream",
     "text": [
      "0\n",
      "10000\n",
      "20000\n",
      "30000\n",
      "40000\n",
      "50000\n",
      "60000\n",
      "70000\n",
      "80000\n",
      "90000\n"
     ]
    },
    {
     "data": {
      "text/html": [
       "<div>\n",
       "<style scoped>\n",
       "    .dataframe tbody tr th:only-of-type {\n",
       "        vertical-align: middle;\n",
       "    }\n",
       "\n",
       "    .dataframe tbody tr th {\n",
       "        vertical-align: top;\n",
       "    }\n",
       "\n",
       "    .dataframe thead th {\n",
       "        text-align: right;\n",
       "    }\n",
       "</style>\n",
       "<table border=\"1\" class=\"dataframe\">\n",
       "  <thead>\n",
       "    <tr style=\"text-align: right;\">\n",
       "      <th></th>\n",
       "      <th>ind_recibo_ult1</th>\n",
       "      <th>ind_reca_fin_ult1</th>\n",
       "      <th>ind_cno_fin_ult1</th>\n",
       "      <th>ind_nom_pens_ult1</th>\n",
       "      <th>ind_ecue_fin_ult1</th>\n",
       "      <th>ind_nomina_ult1</th>\n",
       "      <th>ind_cco_fin_ult1</th>\n",
       "      <th>ind_tjcr_fin_ult1</th>\n",
       "    </tr>\n",
       "  </thead>\n",
       "  <tbody>\n",
       "    <tr>\n",
       "      <th>0</th>\n",
       "      <td>1</td>\n",
       "      <td>1</td>\n",
       "      <td>1</td>\n",
       "      <td>0</td>\n",
       "      <td>1</td>\n",
       "      <td>0</td>\n",
       "      <td>0</td>\n",
       "      <td>0</td>\n",
       "    </tr>\n",
       "    <tr>\n",
       "      <th>1</th>\n",
       "      <td>0</td>\n",
       "      <td>1</td>\n",
       "      <td>0</td>\n",
       "      <td>0</td>\n",
       "      <td>0</td>\n",
       "      <td>0</td>\n",
       "      <td>1</td>\n",
       "      <td>0</td>\n",
       "    </tr>\n",
       "    <tr>\n",
       "      <th>2</th>\n",
       "      <td>0</td>\n",
       "      <td>0</td>\n",
       "      <td>1</td>\n",
       "      <td>1</td>\n",
       "      <td>0</td>\n",
       "      <td>1</td>\n",
       "      <td>0</td>\n",
       "      <td>0</td>\n",
       "    </tr>\n",
       "    <tr>\n",
       "      <th>3</th>\n",
       "      <td>1</td>\n",
       "      <td>1</td>\n",
       "      <td>0</td>\n",
       "      <td>0</td>\n",
       "      <td>1</td>\n",
       "      <td>0</td>\n",
       "      <td>1</td>\n",
       "      <td>1</td>\n",
       "    </tr>\n",
       "    <tr>\n",
       "      <th>4</th>\n",
       "      <td>0</td>\n",
       "      <td>0</td>\n",
       "      <td>1</td>\n",
       "      <td>0</td>\n",
       "      <td>0</td>\n",
       "      <td>0</td>\n",
       "      <td>0</td>\n",
       "      <td>0</td>\n",
       "    </tr>\n",
       "    <tr>\n",
       "      <th>...</th>\n",
       "      <td>...</td>\n",
       "      <td>...</td>\n",
       "      <td>...</td>\n",
       "      <td>...</td>\n",
       "      <td>...</td>\n",
       "      <td>...</td>\n",
       "      <td>...</td>\n",
       "      <td>...</td>\n",
       "    </tr>\n",
       "    <tr>\n",
       "      <th>99995</th>\n",
       "      <td>0</td>\n",
       "      <td>1</td>\n",
       "      <td>0</td>\n",
       "      <td>0</td>\n",
       "      <td>1</td>\n",
       "      <td>0</td>\n",
       "      <td>1</td>\n",
       "      <td>1</td>\n",
       "    </tr>\n",
       "    <tr>\n",
       "      <th>99996</th>\n",
       "      <td>1</td>\n",
       "      <td>0</td>\n",
       "      <td>1</td>\n",
       "      <td>0</td>\n",
       "      <td>1</td>\n",
       "      <td>0</td>\n",
       "      <td>1</td>\n",
       "      <td>0</td>\n",
       "    </tr>\n",
       "    <tr>\n",
       "      <th>99997</th>\n",
       "      <td>1</td>\n",
       "      <td>1</td>\n",
       "      <td>0</td>\n",
       "      <td>0</td>\n",
       "      <td>1</td>\n",
       "      <td>0</td>\n",
       "      <td>0</td>\n",
       "      <td>1</td>\n",
       "    </tr>\n",
       "    <tr>\n",
       "      <th>99998</th>\n",
       "      <td>0</td>\n",
       "      <td>1</td>\n",
       "      <td>1</td>\n",
       "      <td>1</td>\n",
       "      <td>1</td>\n",
       "      <td>0</td>\n",
       "      <td>0</td>\n",
       "      <td>1</td>\n",
       "    </tr>\n",
       "    <tr>\n",
       "      <th>99999</th>\n",
       "      <td>1</td>\n",
       "      <td>1</td>\n",
       "      <td>0</td>\n",
       "      <td>0</td>\n",
       "      <td>1</td>\n",
       "      <td>0</td>\n",
       "      <td>1</td>\n",
       "      <td>0</td>\n",
       "    </tr>\n",
       "  </tbody>\n",
       "</table>\n",
       "<p>100000 rows × 8 columns</p>\n",
       "</div>"
      ],
      "text/plain": [
       "       ind_recibo_ult1  ind_reca_fin_ult1  ind_cno_fin_ult1  \\\n",
       "0                    1                  1                 1   \n",
       "1                    0                  1                 0   \n",
       "2                    0                  0                 1   \n",
       "3                    1                  1                 0   \n",
       "4                    0                  0                 1   \n",
       "...                ...                ...               ...   \n",
       "99995                0                  1                 0   \n",
       "99996                1                  0                 1   \n",
       "99997                1                  1                 0   \n",
       "99998                0                  1                 1   \n",
       "99999                1                  1                 0   \n",
       "\n",
       "       ind_nom_pens_ult1  ind_ecue_fin_ult1  ind_nomina_ult1  \\\n",
       "0                      0                  1                0   \n",
       "1                      0                  0                0   \n",
       "2                      1                  0                1   \n",
       "3                      0                  1                0   \n",
       "4                      0                  0                0   \n",
       "...                  ...                ...              ...   \n",
       "99995                  0                  1                0   \n",
       "99996                  0                  1                0   \n",
       "99997                  0                  1                0   \n",
       "99998                  1                  1                0   \n",
       "99999                  0                  1                0   \n",
       "\n",
       "       ind_cco_fin_ult1  ind_tjcr_fin_ult1  \n",
       "0                     0                  0  \n",
       "1                     1                  0  \n",
       "2                     0                  0  \n",
       "3                     1                  1  \n",
       "4                     0                  0  \n",
       "...                 ...                ...  \n",
       "99995                 1                  1  \n",
       "99996                 1                  0  \n",
       "99997                 0                  1  \n",
       "99998                 0                  1  \n",
       "99999                 1                  0  \n",
       "\n",
       "[100000 rows x 8 columns]"
      ]
     },
     "execution_count": 8,
     "metadata": {},
     "output_type": "execute_result"
    }
   ],
   "source": [
    "top_header = ['ind_recibo_ult1', 'ind_reca_fin_ult1', 'ind_cno_fin_ult1', 'ind_nom_pens_ult1', 'ind_ecue_fin_ult1', 'ind_nomina_ult1', 'ind_cco_fin_ult1', 'ind_tjcr_fin_ult1']\n",
    "top_5 = pd.DataFrame(columns = top_header)\n",
    "\n",
    "\n",
    "for i in range(100000):\n",
    "    if(i % 10000 == 0):\n",
    "        print(i)\n",
    "    top_5.loc[len(top_5)] = 0\n",
    "    tmp = submission.iloc[i][\"added_products\"].split()\n",
    "    for j in top_header:\n",
    "        for k in range(5):\n",
    "            if(j == tmp[k]):\n",
    "                top_5.loc[len(top_5) - 1, j] = 1\n",
    "            \n",
    "top_5"
   ]
  },
  {
   "cell_type": "code",
   "execution_count": 9,
   "id": "f8f67eb0",
   "metadata": {},
   "outputs": [],
   "source": [
    "top_5.to_csv(\"top_5.csv\", index = 0)"
   ]
  },
  {
   "cell_type": "code",
   "execution_count": 10,
   "id": "10b55feb",
   "metadata": {},
   "outputs": [
    {
     "name": "stdout",
     "output_type": "stream",
     "text": [
      "100000\n",
      "110000\n",
      "120000\n",
      "130000\n",
      "140000\n",
      "150000\n",
      "160000\n",
      "170000\n",
      "180000\n",
      "190000\n"
     ]
    }
   ],
   "source": [
    "for i in range(100000, 200000, 1):\n",
    "    if(i % 10000 == 0):\n",
    "        print(i)\n",
    "    top_5.loc[len(top_5)] = 0\n",
    "    tmp = submission.iloc[i][\"added_products\"].split()\n",
    "    for j in top_header:\n",
    "        for k in range(5):\n",
    "            if(j == tmp[k]):\n",
    "                top_5.loc[len(top_5) - 1, j] = 1\n",
    "                \n",
    "top_5.to_csv(\"top_5.csv\", index = 0)"
   ]
  },
  {
   "cell_type": "code",
   "execution_count": 11,
   "id": "7d1910e6",
   "metadata": {},
   "outputs": [
    {
     "name": "stdout",
     "output_type": "stream",
     "text": [
      "200000\n",
      "210000\n",
      "220000\n",
      "230000\n",
      "240000\n",
      "250000\n",
      "260000\n",
      "270000\n",
      "280000\n",
      "290000\n"
     ]
    }
   ],
   "source": [
    "for i in range(200000, 300000, 1):\n",
    "    if(i % 10000 == 0):\n",
    "        print(i)\n",
    "    top_5.loc[len(top_5)] = 0\n",
    "    tmp = submission.iloc[i][\"added_products\"].split()\n",
    "    for j in top_header:\n",
    "        for k in range(5):\n",
    "            if(j == tmp[k]):\n",
    "                top_5.loc[len(top_5) - 1, j] = 1\n",
    "                \n",
    "top_5.to_csv(\"top_5.csv\", index = 0)"
   ]
  },
  {
   "cell_type": "code",
   "execution_count": 12,
   "id": "8ab14ef8",
   "metadata": {},
   "outputs": [
    {
     "name": "stdout",
     "output_type": "stream",
     "text": [
      "300000\n",
      "310000\n",
      "320000\n",
      "330000\n",
      "340000\n",
      "350000\n",
      "360000\n",
      "370000\n",
      "380000\n",
      "390000\n"
     ]
    }
   ],
   "source": [
    "for i in range(300000, 400000, 1):\n",
    "    if(i % 10000 == 0):\n",
    "        print(i)\n",
    "    top_5.loc[len(top_5)] = 0\n",
    "    tmp = submission.iloc[i][\"added_products\"].split()\n",
    "    for j in top_header:\n",
    "        for k in range(5):\n",
    "            if(j == tmp[k]):\n",
    "                top_5.loc[len(top_5) - 1, j] = 1\n",
    "                \n",
    "top_5.to_csv(\"top_5.csv\", index = 0)"
   ]
  },
  {
   "cell_type": "code",
   "execution_count": 13,
   "id": "28bb6409",
   "metadata": {},
   "outputs": [
    {
     "name": "stdout",
     "output_type": "stream",
     "text": [
      "400000\n",
      "410000\n",
      "420000\n",
      "430000\n",
      "440000\n",
      "450000\n",
      "460000\n",
      "470000\n",
      "480000\n",
      "490000\n"
     ]
    }
   ],
   "source": [
    "for i in range(400000, 500000, 1):\n",
    "    if(i % 10000 == 0):\n",
    "        print(i)\n",
    "    top_5.loc[len(top_5)] = 0\n",
    "    tmp = submission.iloc[i][\"added_products\"].split()\n",
    "    for j in top_header:\n",
    "        for k in range(5):\n",
    "            if(j == tmp[k]):\n",
    "                top_5.loc[len(top_5) - 1, j] = 1\n",
    "                \n",
    "top_5.to_csv(\"top_5.csv\", index = 0)"
   ]
  },
  {
   "cell_type": "code",
   "execution_count": 14,
   "id": "0f570e73",
   "metadata": {},
   "outputs": [
    {
     "name": "stdout",
     "output_type": "stream",
     "text": [
      "500000\n",
      "510000\n",
      "520000\n",
      "530000\n",
      "540000\n",
      "550000\n",
      "560000\n",
      "570000\n",
      "580000\n",
      "590000\n"
     ]
    }
   ],
   "source": [
    "for i in range(500000, 600000, 1):\n",
    "    if(i % 10000 == 0):\n",
    "        print(i)\n",
    "    top_5.loc[len(top_5)] = 0\n",
    "    tmp = submission.iloc[i][\"added_products\"].split()\n",
    "    for j in top_header:\n",
    "        for k in range(5):\n",
    "            if(j == tmp[k]):\n",
    "                top_5.loc[len(top_5) - 1, j] = 1\n",
    "                \n",
    "top_5.to_csv(\"top_5.csv\", index = 0)"
   ]
  },
  {
   "cell_type": "code",
   "execution_count": 15,
   "id": "62b7c73a",
   "metadata": {},
   "outputs": [
    {
     "name": "stdout",
     "output_type": "stream",
     "text": [
      "600000\n",
      "610000\n",
      "620000\n",
      "630000\n",
      "640000\n",
      "650000\n",
      "660000\n",
      "670000\n",
      "680000\n",
      "690000\n"
     ]
    }
   ],
   "source": [
    "for i in range(600000, 700000, 1):\n",
    "    if(i % 10000 == 0):\n",
    "        print(i)\n",
    "    top_5.loc[len(top_5)] = 0\n",
    "    tmp = submission.iloc[i][\"added_products\"].split()\n",
    "    for j in top_header:\n",
    "        for k in range(5):\n",
    "            if(j == tmp[k]):\n",
    "                top_5.loc[len(top_5) - 1, j] = 1\n",
    "\n",
    "top_5.to_csv(\"top_5.csv\", index = 0)   "
   ]
  },
  {
   "cell_type": "code",
   "execution_count": null,
   "id": "d4c8f1ee",
   "metadata": {},
   "outputs": [],
   "source": [
    "for i in range(700000, 800000, 1):\n",
    "    if(i % 10000 == 0):\n",
    "        print(i)\n",
    "    top_5.loc[len(top_5)] = 0\n",
    "    tmp = submission.iloc[i][\"added_products\"].split()\n",
    "    for j in top_header:\n",
    "        for k in range(5):\n",
    "            if(j == tmp[k]):\n",
    "                top_5.loc[len(top_5) - 1, j] = 1\n",
    "\n",
    "top_5.to_csv(\"top_5.csv\", index = 0)   "
   ]
  },
  {
   "cell_type": "code",
   "execution_count": null,
   "id": "b6b8b1b6",
   "metadata": {},
   "outputs": [],
   "source": [
    "for i in range(800000, 929615, 1):\n",
    "    if(i % 10000 == 0):\n",
    "        print(i)\n",
    "    top_5.loc[len(top_5)] = 0\n",
    "    tmp = submission.iloc[i][\"added_products\"].split()\n",
    "    for j in top_header:\n",
    "        for k in range(5):\n",
    "            if(j == tmp[k]):\n",
    "                top_5.loc[len(top_5) - 1, j] = 1\n",
    "\n",
    "top_5.to_csv(\"top_5.csv\", index = 0)"
   ]
  }
 ],
 "metadata": {
  "kernelspec": {
   "display_name": "Python 3 (ipykernel)",
   "language": "python",
   "name": "python3"
  },
  "language_info": {
   "codemirror_mode": {
    "name": "ipython",
    "version": 3
   },
   "file_extension": ".py",
   "mimetype": "text/x-python",
   "name": "python",
   "nbconvert_exporter": "python",
   "pygments_lexer": "ipython3",
   "version": "3.9.13"
  }
 },
 "nbformat": 4,
 "nbformat_minor": 5
}
